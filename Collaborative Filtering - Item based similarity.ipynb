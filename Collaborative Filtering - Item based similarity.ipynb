{
 "cells": [
  {
   "cell_type": "code",
   "execution_count": null,
   "id": "c429648a-62f9-4c15-a98b-319a63f319aa",
   "metadata": {},
   "outputs": [
    {
     "name": "stdout",
     "output_type": "stream",
     "text": [
      "<class 'pandas.core.frame.DataFrame'>\n",
      "RangeIndex: 20000263 entries, 0 to 20000262\n",
      "Data columns (total 6 columns):\n",
      " #   Column     Dtype  \n",
      "---  ------     -----  \n",
      " 0   movieId    int64  \n",
      " 1   title      object \n",
      " 2   genres     object \n",
      " 3   userId     int64  \n",
      " 4   rating     float64\n",
      " 5   timestamp  object \n",
      "dtypes: float64(1), int64(2), object(3)\n",
      "memory usage: 915.5+ MB\n"
     ]
    }
   ],
   "source": [
    "import pandas as pd\n",
    "m = pd.read_csv('movie.csv')\n",
    "r = pd.read_csv('rating.csv')\n",
    "\n",
    "m.describe(include=['object'])\n",
    "\n",
    "m['movieId'].info\n",
    "\n",
    "m.columns\n",
    "\n",
    "r.info\n",
    "\n",
    "df = pd.merge(m, r, on='movieId', how='inner')\n",
    "\n",
    "m.head(3)\n",
    "\n",
    "r.head(3)\n",
    "\n",
    "df = pd.merge(m, r, on='movieId', how='inner')\n",
    "\n",
    "df.info()\n",
    "\n",
    "df.drop(['title' ], axis=1, inplace = True)\n",
    "\n",
    "df.head()\n",
    "\n",
    "df['freq'] = df['userId'].map(df['userId'].value_counts())\n",
    "\n",
    "df.shape\n",
    "\n",
    "df_5 = df[df['freq'] >= 100].drop(columns=['freq'])\n",
    "\n",
    "df_5.shape\n",
    "\n",
    "p = df_5.pivot( index ='userId', columns='movieId', values = \"rating\").reset_index(drop=True)\n",
    "\n",
    "p.head()\n",
    "\n",
    "p.shape\n",
    "\n",
    "p = p.iloc[0:5000,0:5000]\n",
    "\n",
    "p.shape\n",
    "\n",
    "p.fillna(0, inplace=True)"
   ]
  },
  {
   "cell_type": "code",
   "execution_count": 9,
   "id": "ea44033e-1f84-44a0-be36-05e2f091ecbf",
   "metadata": {},
   "outputs": [],
   "source": [
    "\n",
    "from sklearn.metrics import pairwise_distances\n",
    "from scipy.spatial.distance import cosine, correlation\n",
    "from sklearn.metrics.pairwise import cosine_similarity\n",
    "\n",
    "def create_item_similarity_matrix(df_5):\n",
    "    # Create a pivot table with movieId as index and userId as columns, filled with ratings\n",
    "    movie_user_matrix = df_5.pivot(index='movieId', columns='userId', values='rating').fillna(0)\n",
    "    \n",
    "    # Compute cosine similarity between movies\n",
    "    item_similarity = cosine_similarity(movie_user_matrix)\n",
    "    \n",
    "    # Convert to DataFrame for easier handling\n",
    "    item_similarity_df = pd.DataFrame(item_similarity, index=movie_user_matrix.index, columns=movie_user_matrix.index)\n",
    "    \n",
    "    return item_similarity_df\n"
   ]
  },
  {
   "cell_type": "code",
   "execution_count": 5,
   "id": "0ddc34a8-8fe4-456d-96b3-92009258f6bb",
   "metadata": {},
   "outputs": [
    {
     "ename": "NameError",
     "evalue": "name 'df_5' is not defined",
     "output_type": "error",
     "traceback": [
      "\u001b[0;31m---------------------------------------------------------------------------\u001b[0m",
      "\u001b[0;31mNameError\u001b[0m                                 Traceback (most recent call last)",
      "Cell \u001b[0;32mIn[5], line 24\u001b[0m\n\u001b[1;32m     21\u001b[0m     \u001b[38;5;28;01mreturn\u001b[39;00m recommended_movie_titles[[\u001b[38;5;124m'\u001b[39m\u001b[38;5;124mmovieId\u001b[39m\u001b[38;5;124m'\u001b[39m, \u001b[38;5;124m'\u001b[39m\u001b[38;5;124mtitle\u001b[39m\u001b[38;5;124m'\u001b[39m]]\n\u001b[1;32m     23\u001b[0m \u001b[38;5;66;03m# Example usage\u001b[39;00m\n\u001b[0;32m---> 24\u001b[0m item_similarity_df \u001b[38;5;241m=\u001b[39m create_item_similarity_matrix(df_5)\n\u001b[1;32m     25\u001b[0m recommendations \u001b[38;5;241m=\u001b[39m recommend_movies_item_based(user_id\u001b[38;5;241m=\u001b[39m\u001b[38;5;241m5\u001b[39m, item_similarity_df\u001b[38;5;241m=\u001b[39mitem_similarity_df, ratings_df\u001b[38;5;241m=\u001b[39mr, movies_df\u001b[38;5;241m=\u001b[39mm, top_n\u001b[38;5;241m=\u001b[39m\u001b[38;5;241m50\u001b[39m)\n\u001b[1;32m     26\u001b[0m \u001b[38;5;28mprint\u001b[39m(recommendations)\n",
      "\u001b[0;31mNameError\u001b[0m: name 'df_5' is not defined"
     ]
    }
   ],
   "source": [
    "\n",
    "def recommend_movies_item_based(user_id, item_similarity_df, ratings_df, movies_df, top_n=50):\n",
    "    # Step 1: Get movies that the user has watched and rated highly\n",
    "    user_ratings = ratings_df[ratings_df.userId == user_id]\n",
    "    high_rated_movies = user_ratings[user_ratings.rating >= 4.0]['movieId']  # Assuming 4.0+ is a high rating\n",
    "    \n",
    "    # Step 2: Find similar movies to the ones the user liked\n",
    "    recommendations = {}\n",
    "    \n",
    "    for movie in high_rated_movies:\n",
    "        if movie in item_similarity_df.index:\n",
    "            similar_movies = item_similarity_df[movie].nlargest(10).index  # Top 10 similar movies\n",
    "            for sim_movie in similar_movies:\n",
    "                if sim_movie not in user_ratings['movieId'].values:  # Only recommend unseen movies\n",
    "                    recommendations[sim_movie] = recommendations.get(sim_movie, 0) + item_similarity_df.loc[movie, sim_movie]\n",
    "\n",
    "    # Step 3: Sort recommendations by similarity score and get top_n recommendations\n",
    "    recommended_movies = sorted(recommendations, key=recommendations.get, reverse=True)[:top_n]\n",
    "    \n",
    "    # Get movie titles for the recommendations\n",
    "    recommended_movie_titles = movies_df[movies_df.movieId.isin(recommended_movies)]\n",
    "    return recommended_movie_titles[['movieId', 'title']]\n",
    "\n",
    "# Example usage\n",
    "item_similarity_df = create_item_similarity_matrix(df_5)\n",
    "recommendations = recommend_movies_item_based(user_id=5, item_similarity_df=item_similarity_df, ratings_df=r, movies_df=m, top_n=50)\n",
    "print(recommendations)"
   ]
  },
  {
   "cell_type": "code",
   "execution_count": null,
   "id": "df6f0560-5723-4f0e-a204-69da028e3f7c",
   "metadata": {},
   "outputs": [],
   "source": []
  }
 ],
 "metadata": {
  "kernelspec": {
   "display_name": "Python 3 (ipykernel)",
   "language": "python",
   "name": "python3"
  },
  "language_info": {
   "codemirror_mode": {
    "name": "ipython",
    "version": 3
   },
   "file_extension": ".py",
   "mimetype": "text/x-python",
   "name": "python",
   "nbconvert_exporter": "python",
   "pygments_lexer": "ipython3",
   "version": "3.12.4"
  }
 },
 "nbformat": 4,
 "nbformat_minor": 5
}
